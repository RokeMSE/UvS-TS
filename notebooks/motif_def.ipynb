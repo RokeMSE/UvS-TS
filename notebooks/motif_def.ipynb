{
 "cells": [
  {
   "cell_type": "markdown",
   "id": "1ba4f00f",
   "metadata": {},
   "source": [
    "### Usage: Use to visualize $D_f$ and $D_r$ vs $D$ for motif identification."
   ]
  },
  {
   "cell_type": "markdown",
   "id": "a38bbafd",
   "metadata": {},
   "source": []
  }
 ],
 "metadata": {
  "language_info": {
   "name": "python"
  }
 },
 "nbformat": 4,
 "nbformat_minor": 5
}
